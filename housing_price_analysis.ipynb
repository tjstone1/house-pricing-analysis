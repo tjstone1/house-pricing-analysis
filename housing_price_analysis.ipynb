{
  "nbformat": 4,
  "nbformat_minor": 0,
  "metadata": {
    "colab": {
      "provenance": [],
      "include_colab_link": true
    },
    "kernelspec": {
      "name": "ir",
      "display_name": "R"
    },
    "language_info": {
      "name": "R"
    }
  },
  "cells": [
    {
      "cell_type": "markdown",
      "metadata": {
        "id": "view-in-github",
        "colab_type": "text"
      },
      "source": [
        "<a href=\"https://colab.research.google.com/github/tjstone1/house-pricing-analysis/blob/main/housing_price_analysis.ipynb\" target=\"_parent\"><img src=\"https://colab.research.google.com/assets/colab-badge.svg\" alt=\"Open In Colab\"/></a>"
      ]
    },
    {
      "cell_type": "code",
      "execution_count": 32,
      "metadata": {
        "id": "HG9w5717ydo9",
        "colab": {
          "base_uri": "https://localhost:8080/"
        },
        "outputId": "627eea19-5585-44dd-a8fa-3ba3ee704811"
      },
      "outputs": [
        {
          "output_type": "stream",
          "name": "stderr",
          "text": [
            "Installing package into ‘/usr/local/lib/R/site-library’\n",
            "(as ‘lib’ is unspecified)\n",
            "\n"
          ]
        }
      ],
      "source": [
        "df <- read.csv(\"sample_data/properties.csv\")\n",
        "install.packages(\"lmtest\")"
      ]
    },
    {
      "cell_type": "markdown",
      "source": [
        "First we check the structure of the data by using the head function. It's immediately clear that the data must be cleaned."
      ],
      "metadata": {
        "id": "09ZnPpFzKc6_"
      }
    },
    {
      "cell_type": "code",
      "source": [
        "head(df)"
      ],
      "metadata": {
        "colab": {
          "base_uri": "https://localhost:8080/",
          "height": 497
        },
        "id": "Jx1XdUQjzvmh",
        "outputId": "d57b0636-4b76-43f6-f5f1-060b0feda536"
      },
      "execution_count": 33,
      "outputs": [
        {
          "output_type": "display_data",
          "data": {
            "text/html": [
              "<table class=\"dataframe\">\n",
              "<caption>A data.frame: 6 × 11</caption>\n",
              "<thead>\n",
              "\t<tr><th></th><th scope=col>price</th><th scope=col>areaCode</th><th scope=col>propertyType</th><th scope=col>areaValue</th><th scope=col>areaUnit</th><th scope=col>bedrooms</th><th scope=col>bathrooms</th><th scope=col>receptions</th><th scope=col>epcRating</th><th scope=col>tenure</th><th scope=col>councilTaxBand</th></tr>\n",
              "\t<tr><th></th><th scope=col>&lt;int&gt;</th><th scope=col>&lt;chr&gt;</th><th scope=col>&lt;chr&gt;</th><th scope=col>&lt;dbl&gt;</th><th scope=col>&lt;chr&gt;</th><th scope=col>&lt;dbl&gt;</th><th scope=col>&lt;dbl&gt;</th><th scope=col>&lt;dbl&gt;</th><th scope=col>&lt;chr&gt;</th><th scope=col>&lt;chr&gt;</th><th scope=col>&lt;chr&gt;</th></tr>\n",
              "</thead>\n",
              "<tbody>\n",
              "\t<tr><th scope=row>1</th><td>1075000</td><td>OX1 </td><td>House           </td><td>2155.0</td><td>sq ft</td><td>  3</td><td>  2</td><td>  2</td><td> </td><td>Freehold                                                 </td><td>TBC</td></tr>\n",
              "\t<tr><th scope=row>2</th><td> 650000</td><td>OX25</td><td>New development </td><td>    NA</td><td>     </td><td>NaN</td><td>NaN</td><td>NaN</td><td> </td><td>Freehold                                                 </td><td>TBC</td></tr>\n",
              "\t<tr><th scope=row>3</th><td>2750000</td><td>OX28</td><td>House           </td><td>8248.0</td><td>sq ft</td><td> 10</td><td>  5</td><td>  4</td><td>E</td><td>Freehold                                                 </td><td>H  </td></tr>\n",
              "\t<tr><th scope=row>4</th><td> 950000</td><td>OX2 </td><td>Flat / Apartment</td><td>1632.0</td><td>sq ft</td><td>  3</td><td>  2</td><td>  2</td><td>C</td><td>Leasehold. Lease Expiry: 04/05/2128 (102 years remaining)</td><td>F  </td></tr>\n",
              "\t<tr><th scope=row>5</th><td> 615000</td><td>OX1 </td><td>Flat / Apartment</td><td> 826.0</td><td>sq ft</td><td>  2</td><td>  2</td><td>  1</td><td>B</td><td>Leasehold. Lease Expiry: 01/09/2142 (117 years remaining)</td><td>E  </td></tr>\n",
              "\t<tr><th scope=row>6</th><td>1750000</td><td>RG9 </td><td>House           </td><td>   1.6</td><td>Ac   </td><td>  5</td><td>  3</td><td>  3</td><td>E</td><td>Freehold                                                 </td><td>F  </td></tr>\n",
              "</tbody>\n",
              "</table>\n"
            ],
            "text/markdown": "\nA data.frame: 6 × 11\n\n| <!--/--> | price &lt;int&gt; | areaCode &lt;chr&gt; | propertyType &lt;chr&gt; | areaValue &lt;dbl&gt; | areaUnit &lt;chr&gt; | bedrooms &lt;dbl&gt; | bathrooms &lt;dbl&gt; | receptions &lt;dbl&gt; | epcRating &lt;chr&gt; | tenure &lt;chr&gt; | councilTaxBand &lt;chr&gt; |\n|---|---|---|---|---|---|---|---|---|---|---|---|\n| 1 | 1075000 | OX1  | House            | 2155.0 | sq ft |   3 |   2 |   2 | <!----> | Freehold                                                  | TBC |\n| 2 |  650000 | OX25 | New development  |     NA | <!----> | NaN | NaN | NaN | <!----> | Freehold                                                  | TBC |\n| 3 | 2750000 | OX28 | House            | 8248.0 | sq ft |  10 |   5 |   4 | E | Freehold                                                  | H   |\n| 4 |  950000 | OX2  | Flat / Apartment | 1632.0 | sq ft |   3 |   2 |   2 | C | Leasehold. Lease Expiry: 04/05/2128 (102 years remaining) | F   |\n| 5 |  615000 | OX1  | Flat / Apartment |  826.0 | sq ft |   2 |   2 |   1 | B | Leasehold. Lease Expiry: 01/09/2142 (117 years remaining) | E   |\n| 6 | 1750000 | RG9  | House            |    1.6 | Ac    |   5 |   3 |   3 | E | Freehold                                                  | F   |\n\n",
            "text/latex": "A data.frame: 6 × 11\n\\begin{tabular}{r|lllllllllll}\n  & price & areaCode & propertyType & areaValue & areaUnit & bedrooms & bathrooms & receptions & epcRating & tenure & councilTaxBand\\\\\n  & <int> & <chr> & <chr> & <dbl> & <chr> & <dbl> & <dbl> & <dbl> & <chr> & <chr> & <chr>\\\\\n\\hline\n\t1 & 1075000 & OX1  & House            & 2155.0 & sq ft &   3 &   2 &   2 &   & Freehold                                                  & TBC\\\\\n\t2 &  650000 & OX25 & New development  &     NA &       & NaN & NaN & NaN &   & Freehold                                                  & TBC\\\\\n\t3 & 2750000 & OX28 & House            & 8248.0 & sq ft &  10 &   5 &   4 & E & Freehold                                                  & H  \\\\\n\t4 &  950000 & OX2  & Flat / Apartment & 1632.0 & sq ft &   3 &   2 &   2 & C & Leasehold. Lease Expiry: 04/05/2128 (102 years remaining) & F  \\\\\n\t5 &  615000 & OX1  & Flat / Apartment &  826.0 & sq ft &   2 &   2 &   1 & B & Leasehold. Lease Expiry: 01/09/2142 (117 years remaining) & E  \\\\\n\t6 & 1750000 & RG9  & House            &    1.6 & Ac    &   5 &   3 &   3 & E & Freehold                                                  & F  \\\\\n\\end{tabular}\n",
            "text/plain": [
              "  price   areaCode propertyType     areaValue areaUnit bedrooms bathrooms\n",
              "1 1075000 OX1      House            2155.0    sq ft      3        2      \n",
              "2  650000 OX25     New development      NA             NaN      NaN      \n",
              "3 2750000 OX28     House            8248.0    sq ft     10        5      \n",
              "4  950000 OX2      Flat / Apartment 1632.0    sq ft      3        2      \n",
              "5  615000 OX1      Flat / Apartment  826.0    sq ft      2        2      \n",
              "6 1750000 RG9      House               1.6    Ac         5        3      \n",
              "  receptions epcRating\n",
              "1   2                 \n",
              "2 NaN                 \n",
              "3   4        E        \n",
              "4   2        C        \n",
              "5   1        B        \n",
              "6   3        E        \n",
              "  tenure                                                    councilTaxBand\n",
              "1 Freehold                                                  TBC           \n",
              "2 Freehold                                                  TBC           \n",
              "3 Freehold                                                  H             \n",
              "4 Leasehold. Lease Expiry: 04/05/2128 (102 years remaining) F             \n",
              "5 Leasehold. Lease Expiry: 01/09/2142 (117 years remaining) E             \n",
              "6 Freehold                                                  F             "
            ]
          },
          "metadata": {}
        }
      ]
    },
    {
      "cell_type": "markdown",
      "source": [
        "We remove all incomplete records"
      ],
      "metadata": {
        "id": "iJW1C5ppK1Ch"
      }
    },
    {
      "cell_type": "code",
      "source": [
        "listings <- na.omit(df)\n",
        "listings <- listings[!apply(listings == \"\", 1, any), ]"
      ],
      "metadata": {
        "id": "Z9Ld6p18z7fC"
      },
      "execution_count": 34,
      "outputs": []
    },
    {
      "cell_type": "markdown",
      "source": [
        "We'll clean the data further:\n",
        "\n",
        "\n",
        "1.   Standardise area measurements so that they are all in square feet.\n",
        "2.   Clean tenure column so that \"Leasehold\" and \"Share of Freehold\" so that their formatting is consistent.\n",
        "3.   Convert tenure column to boolean as only a small minority of properties are not Freehold. This also enables us to turn the data into numbers which can be used in our model (1 or 0).\n",
        "4.   Encode epc rating and tax band so that they have numeric values. As they are naturally ordered, one-hot encoding is not necessary.\n",
        "\n",
        "\n"
      ],
      "metadata": {
        "id": "QjDTlrEQn0YM"
      }
    },
    {
      "cell_type": "code",
      "source": [
        "library(dplyr)\n",
        "# 1\n",
        "listings <- listings %>% mutate(\n",
        "  areaValue = if_else(areaUnit == \"Ac\", areaValue * 43560, areaValue),\n",
        "  areaUnit = \"sq ft\"\n",
        ")\n",
        "\n",
        "# 2\n",
        "listings$tenure_clean <- ifelse(grepl(\"Share of Freehold\", listings$tenure, ignore.case = TRUE),\n",
        "                                \"Share of Freehold\",\n",
        "                         ifelse(grepl(\"Leasehold\", listings$tenure, ignore.case = TRUE),\n",
        "                                \"Leasehold\",\n",
        "                                \"Freehold\"))\n",
        "\n",
        "listings$tenure_clean <- factor(listings$tenure_clean,\n",
        "                                levels = c(\"Freehold\", \"Leasehold\", \"Share of Freehold\"))\n",
        "                                one_hot <- model.matrix(~ tenure_clean - 1, data = listings)\n",
        "\n",
        "# 3\n",
        "listings$isFreehold <- as.integer(listings$tenure_clean == \"Freehold\")\n",
        "\n",
        "# 4\n",
        "listings$epc_numeric <- as.numeric(factor(listings$epcRating,\n",
        "                                         levels = c(\"G\", \"F\", \"E\", \"D\", \"C\", \"B\", \"A\")))\n",
        "listings <- listings[listings$councilTaxBand != \"TBC\", ]\n",
        "listings$tax_numeric <- as.numeric(factor(listings$councilTaxBand,\n",
        "                                         levels = c(\"A\", \"B\", \"C\", \"D\", \"E\", \"F\", \"G\", \"H\")))\n",
        "\n",
        "head(listings)"
      ],
      "metadata": {
        "colab": {
          "base_uri": "https://localhost:8080/",
          "height": 480
        },
        "id": "gFc1hkon2Aay",
        "outputId": "cfbe9287-5c5a-46eb-975f-9239c8eb8fa9"
      },
      "execution_count": 35,
      "outputs": [
        {
          "output_type": "display_data",
          "data": {
            "text/html": [
              "<table class=\"dataframe\">\n",
              "<caption>A data.frame: 6 × 15</caption>\n",
              "<thead>\n",
              "\t<tr><th></th><th scope=col>price</th><th scope=col>areaCode</th><th scope=col>propertyType</th><th scope=col>areaValue</th><th scope=col>areaUnit</th><th scope=col>bedrooms</th><th scope=col>bathrooms</th><th scope=col>receptions</th><th scope=col>epcRating</th><th scope=col>tenure</th><th scope=col>councilTaxBand</th><th scope=col>tenure_clean</th><th scope=col>isFreehold</th><th scope=col>epc_numeric</th><th scope=col>tax_numeric</th></tr>\n",
              "\t<tr><th></th><th scope=col>&lt;int&gt;</th><th scope=col>&lt;chr&gt;</th><th scope=col>&lt;chr&gt;</th><th scope=col>&lt;dbl&gt;</th><th scope=col>&lt;chr&gt;</th><th scope=col>&lt;dbl&gt;</th><th scope=col>&lt;dbl&gt;</th><th scope=col>&lt;dbl&gt;</th><th scope=col>&lt;chr&gt;</th><th scope=col>&lt;chr&gt;</th><th scope=col>&lt;chr&gt;</th><th scope=col>&lt;fct&gt;</th><th scope=col>&lt;int&gt;</th><th scope=col>&lt;dbl&gt;</th><th scope=col>&lt;dbl&gt;</th></tr>\n",
              "</thead>\n",
              "<tbody>\n",
              "\t<tr><th scope=row>3</th><td>2750000</td><td>OX28</td><td>House           </td><td> 8248</td><td>sq ft</td><td>10</td><td>5</td><td>4</td><td>E</td><td>Freehold                                                 </td><td>H</td><td>Freehold </td><td>1</td><td>3</td><td>8</td></tr>\n",
              "\t<tr><th scope=row>4</th><td> 950000</td><td>OX2 </td><td>Flat / Apartment</td><td> 1632</td><td>sq ft</td><td> 3</td><td>2</td><td>2</td><td>C</td><td>Leasehold. Lease Expiry: 04/05/2128 (102 years remaining)</td><td>F</td><td>Leasehold</td><td>0</td><td>5</td><td>6</td></tr>\n",
              "\t<tr><th scope=row>5</th><td> 615000</td><td>OX1 </td><td>Flat / Apartment</td><td>  826</td><td>sq ft</td><td> 2</td><td>2</td><td>1</td><td>B</td><td>Leasehold. Lease Expiry: 01/09/2142 (117 years remaining)</td><td>E</td><td>Leasehold</td><td>0</td><td>6</td><td>5</td></tr>\n",
              "\t<tr><th scope=row>6</th><td>1750000</td><td>RG9 </td><td>House           </td><td>69696</td><td>sq ft</td><td> 5</td><td>3</td><td>3</td><td>E</td><td>Freehold                                                 </td><td>F</td><td>Freehold </td><td>1</td><td>3</td><td>6</td></tr>\n",
              "\t<tr><th scope=row>7</th><td> 899995</td><td>OX7 </td><td>House           </td><td> 2246</td><td>sq ft</td><td> 4</td><td>3</td><td>2</td><td>D</td><td>Freehold                                                 </td><td>G</td><td>Freehold </td><td>1</td><td>4</td><td>7</td></tr>\n",
              "\t<tr><th scope=row>8</th><td> 595000</td><td>OX2 </td><td>House           </td><td> 1323</td><td>sq ft</td><td> 4</td><td>5</td><td>2</td><td>C</td><td>Freehold                                                 </td><td>E</td><td>Freehold </td><td>1</td><td>5</td><td>5</td></tr>\n",
              "</tbody>\n",
              "</table>\n"
            ],
            "text/markdown": "\nA data.frame: 6 × 15\n\n| <!--/--> | price &lt;int&gt; | areaCode &lt;chr&gt; | propertyType &lt;chr&gt; | areaValue &lt;dbl&gt; | areaUnit &lt;chr&gt; | bedrooms &lt;dbl&gt; | bathrooms &lt;dbl&gt; | receptions &lt;dbl&gt; | epcRating &lt;chr&gt; | tenure &lt;chr&gt; | councilTaxBand &lt;chr&gt; | tenure_clean &lt;fct&gt; | isFreehold &lt;int&gt; | epc_numeric &lt;dbl&gt; | tax_numeric &lt;dbl&gt; |\n|---|---|---|---|---|---|---|---|---|---|---|---|---|---|---|---|\n| 3 | 2750000 | OX28 | House            |  8248 | sq ft | 10 | 5 | 4 | E | Freehold                                                  | H | Freehold  | 1 | 3 | 8 |\n| 4 |  950000 | OX2  | Flat / Apartment |  1632 | sq ft |  3 | 2 | 2 | C | Leasehold. Lease Expiry: 04/05/2128 (102 years remaining) | F | Leasehold | 0 | 5 | 6 |\n| 5 |  615000 | OX1  | Flat / Apartment |   826 | sq ft |  2 | 2 | 1 | B | Leasehold. Lease Expiry: 01/09/2142 (117 years remaining) | E | Leasehold | 0 | 6 | 5 |\n| 6 | 1750000 | RG9  | House            | 69696 | sq ft |  5 | 3 | 3 | E | Freehold                                                  | F | Freehold  | 1 | 3 | 6 |\n| 7 |  899995 | OX7  | House            |  2246 | sq ft |  4 | 3 | 2 | D | Freehold                                                  | G | Freehold  | 1 | 4 | 7 |\n| 8 |  595000 | OX2  | House            |  1323 | sq ft |  4 | 5 | 2 | C | Freehold                                                  | E | Freehold  | 1 | 5 | 5 |\n\n",
            "text/latex": "A data.frame: 6 × 15\n\\begin{tabular}{r|lllllllllllllll}\n  & price & areaCode & propertyType & areaValue & areaUnit & bedrooms & bathrooms & receptions & epcRating & tenure & councilTaxBand & tenure\\_clean & isFreehold & epc\\_numeric & tax\\_numeric\\\\\n  & <int> & <chr> & <chr> & <dbl> & <chr> & <dbl> & <dbl> & <dbl> & <chr> & <chr> & <chr> & <fct> & <int> & <dbl> & <dbl>\\\\\n\\hline\n\t3 & 2750000 & OX28 & House            &  8248 & sq ft & 10 & 5 & 4 & E & Freehold                                                  & H & Freehold  & 1 & 3 & 8\\\\\n\t4 &  950000 & OX2  & Flat / Apartment &  1632 & sq ft &  3 & 2 & 2 & C & Leasehold. Lease Expiry: 04/05/2128 (102 years remaining) & F & Leasehold & 0 & 5 & 6\\\\\n\t5 &  615000 & OX1  & Flat / Apartment &   826 & sq ft &  2 & 2 & 1 & B & Leasehold. Lease Expiry: 01/09/2142 (117 years remaining) & E & Leasehold & 0 & 6 & 5\\\\\n\t6 & 1750000 & RG9  & House            & 69696 & sq ft &  5 & 3 & 3 & E & Freehold                                                  & F & Freehold  & 1 & 3 & 6\\\\\n\t7 &  899995 & OX7  & House            &  2246 & sq ft &  4 & 3 & 2 & D & Freehold                                                  & G & Freehold  & 1 & 4 & 7\\\\\n\t8 &  595000 & OX2  & House            &  1323 & sq ft &  4 & 5 & 2 & C & Freehold                                                  & E & Freehold  & 1 & 5 & 5\\\\\n\\end{tabular}\n",
            "text/plain": [
              "  price   areaCode propertyType     areaValue areaUnit bedrooms bathrooms\n",
              "3 2750000 OX28     House             8248     sq ft    10       5        \n",
              "4  950000 OX2      Flat / Apartment  1632     sq ft     3       2        \n",
              "5  615000 OX1      Flat / Apartment   826     sq ft     2       2        \n",
              "6 1750000 RG9      House            69696     sq ft     5       3        \n",
              "7  899995 OX7      House             2246     sq ft     4       3        \n",
              "8  595000 OX2      House             1323     sq ft     4       5        \n",
              "  receptions epcRating\n",
              "3 4          E        \n",
              "4 2          C        \n",
              "5 1          B        \n",
              "6 3          E        \n",
              "7 2          D        \n",
              "8 2          C        \n",
              "  tenure                                                    councilTaxBand\n",
              "3 Freehold                                                  H             \n",
              "4 Leasehold. Lease Expiry: 04/05/2128 (102 years remaining) F             \n",
              "5 Leasehold. Lease Expiry: 01/09/2142 (117 years remaining) E             \n",
              "6 Freehold                                                  F             \n",
              "7 Freehold                                                  G             \n",
              "8 Freehold                                                  E             \n",
              "  tenure_clean isFreehold epc_numeric tax_numeric\n",
              "3 Freehold     1          3           8          \n",
              "4 Leasehold    0          5           6          \n",
              "5 Leasehold    0          6           5          \n",
              "6 Freehold     1          3           6          \n",
              "7 Freehold     1          4           7          \n",
              "8 Freehold     1          5           5          "
            ]
          },
          "metadata": {}
        }
      ]
    },
    {
      "cell_type": "markdown",
      "source": [
        "The number of houses is large compared to other property types, this means one-hot encoding is not appropriate for this data. Instead we'll turn property type into a boolean to check whether it's a house or not."
      ],
      "metadata": {
        "id": "-onV2TQunD3M"
      }
    },
    {
      "cell_type": "code",
      "source": [
        "table(listings$propertyType)"
      ],
      "metadata": {
        "colab": {
          "base_uri": "https://localhost:8080/",
          "height": 69
        },
        "id": "YqlNZAec-7Yh",
        "outputId": "72032658-7c42-4385-b7e7-c9cc4d0a0ae4"
      },
      "execution_count": 36,
      "outputs": [
        {
          "output_type": "display_data",
          "data": {
            "text/plain": [
              "\n",
              "        Bungalow Flat / Apartment            House  New development \n",
              "               1               10              177                3 "
            ]
          },
          "metadata": {}
        }
      ]
    },
    {
      "cell_type": "code",
      "source": [
        "table(listings$propertyType)\n",
        "listings$isHouse <- ifelse(listings$propertyType == \"House\", 1, 0)"
      ],
      "metadata": {
        "colab": {
          "base_uri": "https://localhost:8080/",
          "height": 69
        },
        "id": "XLxN4IXVS-hi",
        "outputId": "d1fe6047-50bf-4d56-e141-97d2b7d8e483"
      },
      "execution_count": 37,
      "outputs": [
        {
          "output_type": "display_data",
          "data": {
            "text/plain": [
              "\n",
              "        Bungalow Flat / Apartment            House  New development \n",
              "               1               10              177                3 "
            ]
          },
          "metadata": {}
        }
      ]
    },
    {
      "cell_type": "markdown",
      "source": [
        "We use stepwise regression to identify the best-fitting model by starting with a full model (all predictors and selected interactions) and a null model (1). The response variable is log(price) to stabilise variance and improve model fit. The model with the lowest AIC is chosen as the optimal balance between complexity and goodness of fit."
      ],
      "metadata": {
        "id": "KjXN2uNsl7Jd"
      }
    },
    {
      "cell_type": "code",
      "source": [
        "full_model <- lm(log(price) ~\n",
        "                 bathrooms * bedrooms * areaValue * receptions *\n",
        "                 isHouse + isFreehold + tax_numeric + epc_numeric,\n",
        "               data = listings)\n",
        "null_model <- lm(log(price) ~ 1, data = listings)\n",
        "\n",
        "step_model <- step(null_model, scope = list(lower = null_model, upper = full_model), direction = \"both\")\n",
        "\n",
        "summary(step_model)"
      ],
      "metadata": {
        "colab": {
          "base_uri": "https://localhost:8080/",
          "height": 1000
        },
        "id": "htUHlhmC9t9Z",
        "outputId": "50516c87-0670-4cb3-b9ec-a0d798b7c0ef"
      },
      "execution_count": 38,
      "outputs": [
        {
          "output_type": "stream",
          "name": "stdout",
          "text": [
            "Start:  AIC=-151.49\n",
            "log(price) ~ 1\n",
            "\n",
            "              Df Sum of Sq    RSS     AIC\n",
            "+ bedrooms     1    37.893 47.618 -261.31\n",
            "+ bathrooms    1    35.175 50.336 -250.71\n",
            "+ receptions   1    35.057 50.454 -250.26\n",
            "+ tax_numeric  1    31.894 53.617 -238.65\n",
            "+ areaValue    1    10.171 75.340 -173.68\n",
            "+ isFreehold   1     5.001 80.510 -161.00\n",
            "+ epc_numeric  1     3.576 81.936 -157.65\n",
            "+ isHouse      1     2.847 82.665 -155.96\n",
            "<none>                     85.511 -151.49\n",
            "\n",
            "Step:  AIC=-261.31\n",
            "log(price) ~ bedrooms\n",
            "\n",
            "              Df Sum of Sq    RSS     AIC\n",
            "+ tax_numeric  1     7.670 39.948 -292.86\n",
            "+ bathrooms    1     5.992 41.626 -285.00\n",
            "+ receptions   1     5.558 42.060 -283.01\n",
            "+ areaValue    1     4.844 42.774 -279.80\n",
            "<none>                     47.618 -261.31\n",
            "+ epc_numeric  1     0.203 47.415 -260.13\n",
            "+ isHouse      1     0.052 47.567 -259.52\n",
            "+ isFreehold   1     0.001 47.617 -259.31\n",
            "- bedrooms     1    37.893 85.511 -151.49\n",
            "\n",
            "Step:  AIC=-292.86\n",
            "log(price) ~ bedrooms + tax_numeric\n",
            "\n",
            "              Df Sum of Sq    RSS     AIC\n",
            "+ areaValue    1    5.0447 34.903 -316.64\n",
            "+ bathrooms    1    4.3868 35.561 -313.07\n",
            "+ receptions   1    3.4310 36.517 -308.01\n",
            "<none>                     39.948 -292.86\n",
            "+ epc_numeric  1    0.0936 39.854 -291.30\n",
            "+ isHouse      1    0.0571 39.891 -291.13\n",
            "+ isFreehold   1    0.0183 39.930 -290.94\n",
            "- tax_numeric  1    7.6701 47.618 -261.31\n",
            "- bedrooms     1   13.6690 53.617 -238.65\n",
            "\n",
            "Step:  AIC=-316.64\n",
            "log(price) ~ bedrooms + tax_numeric + areaValue\n",
            "\n",
            "                     Df Sum of Sq    RSS     AIC\n",
            "+ bathrooms           1    4.5920 30.311 -341.58\n",
            "+ receptions          1    3.0435 31.860 -332.07\n",
            "<none>                            34.903 -316.64\n",
            "+ bedrooms:areaValue  1    0.0730 34.830 -315.04\n",
            "+ isHouse             1    0.0392 34.864 -314.86\n",
            "+ isFreehold          1    0.0049 34.898 -314.67\n",
            "+ epc_numeric         1    0.0002 34.903 -314.64\n",
            "- areaValue           1    5.0447 39.948 -292.86\n",
            "- tax_numeric         1    7.8711 42.774 -279.80\n",
            "- bedrooms            1   11.0399 45.943 -266.15\n",
            "\n",
            "Step:  AIC=-341.58\n",
            "log(price) ~ bedrooms + tax_numeric + areaValue + bathrooms\n",
            "\n",
            "                      Df Sum of Sq    RSS     AIC\n",
            "+ receptions           1    1.5758 28.736 -349.78\n",
            "<none>                             30.311 -341.58\n",
            "+ bathrooms:bedrooms   1    0.3126 29.999 -341.56\n",
            "+ epc_numeric          1    0.2962 30.015 -341.46\n",
            "+ bathrooms:areaValue  1    0.1779 30.133 -340.71\n",
            "+ isHouse              1    0.0839 30.227 -340.11\n",
            "+ bedrooms:areaValue   1    0.0013 30.310 -339.59\n",
            "+ isFreehold           1    0.0010 30.310 -339.59\n",
            "- bedrooms             1    2.3446 32.656 -329.35\n",
            "- bathrooms            1    4.5920 34.903 -316.64\n",
            "- areaValue            1    5.2499 35.561 -313.07\n",
            "- tax_numeric          1    6.2132 36.524 -307.97\n",
            "\n",
            "Step:  AIC=-349.78\n",
            "log(price) ~ bedrooms + tax_numeric + areaValue + bathrooms + \n",
            "    receptions\n",
            "\n",
            "                       Df Sum of Sq    RSS     AIC\n",
            "+ bathrooms:receptions  1    0.4205 28.315 -350.60\n",
            "<none>                              28.736 -349.78\n",
            "+ isHouse               1    0.2220 28.514 -349.26\n",
            "+ epc_numeric           1    0.2207 28.515 -349.25\n",
            "+ bathrooms:bedrooms    1    0.1847 28.551 -349.01\n",
            "+ bedrooms:receptions   1    0.1066 28.629 -348.49\n",
            "+ bathrooms:areaValue   1    0.0848 28.651 -348.35\n",
            "+ isFreehold            1    0.0245 28.711 -347.94\n",
            "+ areaValue:receptions  1    0.0191 28.716 -347.91\n",
            "+ bedrooms:areaValue    1    0.0087 28.727 -347.84\n",
            "- bedrooms              1    0.8170 29.553 -346.43\n",
            "- receptions            1    1.5758 30.311 -341.58\n",
            "- bathrooms             1    3.1243 31.860 -332.07\n",
            "- areaValue             1    4.9178 33.653 -321.61\n",
            "- tax_numeric           1    5.0452 33.781 -320.89\n",
            "\n",
            "Step:  AIC=-350.6\n",
            "log(price) ~ bedrooms + tax_numeric + areaValue + bathrooms + \n",
            "    receptions + bathrooms:receptions\n",
            "\n",
            "                       Df Sum of Sq    RSS     AIC\n",
            "+ bedrooms:receptions   1    1.8433 26.472 -361.45\n",
            "<none>                              28.315 -350.60\n",
            "+ epc_numeric           1    0.2911 28.024 -350.57\n",
            "- bathrooms:receptions  1    0.4205 28.736 -349.78\n",
            "+ isHouse               1    0.0919 28.223 -349.22\n",
            "+ bedrooms:areaValue    1    0.0751 28.240 -349.10\n",
            "+ bathrooms:areaValue   1    0.0243 28.291 -348.76\n",
            "+ bathrooms:bedrooms    1    0.0103 28.305 -348.67\n",
            "+ isFreehold            1    0.0025 28.313 -348.61\n",
            "+ areaValue:receptions  1    0.0001 28.315 -348.60\n",
            "- bedrooms              1    0.7795 29.095 -347.41\n",
            "- areaValue             1    4.5663 32.881 -324.04\n",
            "- tax_numeric           1    5.4638 33.779 -318.90\n",
            "\n",
            "Step:  AIC=-361.45\n",
            "log(price) ~ bedrooms + tax_numeric + areaValue + bathrooms + \n",
            "    receptions + bathrooms:receptions + bedrooms:receptions\n",
            "\n",
            "                       Df Sum of Sq    RSS     AIC\n",
            "+ isHouse               1    0.5347 25.937 -363.35\n",
            "+ isFreehold            1    0.3857 26.086 -362.26\n",
            "+ bathrooms:bedrooms    1    0.3351 26.137 -361.89\n",
            "<none>                              26.472 -361.45\n",
            "+ epc_numeric           1    0.2736 26.198 -361.44\n",
            "+ bathrooms:areaValue   1    0.0408 26.431 -359.75\n",
            "+ bedrooms:areaValue    1    0.0106 26.461 -359.53\n",
            "+ areaValue:receptions  1    0.0057 26.466 -359.49\n",
            "- bedrooms:receptions   1    1.8433 28.315 -350.60\n",
            "- bathrooms:receptions  1    2.1573 28.629 -348.49\n",
            "- tax_numeric           1    3.6399 30.112 -338.85\n",
            "- areaValue             1    4.2275 30.699 -335.15\n",
            "\n",
            "Step:  AIC=-363.35\n",
            "log(price) ~ bedrooms + tax_numeric + areaValue + bathrooms + \n",
            "    receptions + isHouse + bathrooms:receptions + bedrooms:receptions\n",
            "\n",
            "                       Df Sum of Sq    RSS     AIC\n",
            "+ areaValue:isHouse     1    0.8551 25.082 -367.75\n",
            "+ epc_numeric           1    0.5384 25.399 -365.36\n",
            "+ bathrooms:bedrooms    1    0.3324 25.605 -363.81\n",
            "<none>                              25.937 -363.35\n",
            "+ receptions:isHouse    1    0.1293 25.808 -362.31\n",
            "+ bedrooms:isHouse      1    0.1263 25.811 -362.28\n",
            "+ bathrooms:areaValue   1    0.0493 25.888 -361.71\n",
            "+ bathrooms:isHouse     1    0.0301 25.907 -361.57\n",
            "+ bedrooms:areaValue    1    0.0206 25.916 -361.50\n",
            "- isHouse               1    0.5347 26.472 -361.45\n",
            "+ areaValue:receptions  1    0.0111 25.926 -361.43\n",
            "+ isFreehold            1    0.0062 25.931 -361.40\n",
            "- bathrooms:receptions  1    2.2683 28.205 -349.34\n",
            "- bedrooms:receptions   1    2.2862 28.223 -349.22\n",
            "- tax_numeric           1    3.0540 28.991 -344.09\n",
            "- areaValue             1    4.1873 30.124 -336.77\n",
            "\n",
            "Step:  AIC=-367.75\n",
            "log(price) ~ bedrooms + tax_numeric + areaValue + bathrooms + \n",
            "    receptions + isHouse + bathrooms:receptions + bedrooms:receptions + \n",
            "    areaValue:isHouse\n",
            "\n",
            "                       Df Sum of Sq    RSS     AIC\n",
            "+ epc_numeric           1   0.38798 24.694 -368.73\n",
            "+ bathrooms:bedrooms    1   0.34653 24.735 -368.41\n",
            "+ bedrooms:isHouse      1   0.31720 24.765 -368.19\n",
            "<none>                              25.082 -367.75\n",
            "+ receptions:isHouse    1   0.26111 24.821 -367.75\n",
            "+ isFreehold            1   0.21337 24.869 -367.39\n",
            "+ bathrooms:isHouse     1   0.07154 25.010 -366.30\n",
            "+ bathrooms:areaValue   1   0.03687 25.045 -366.04\n",
            "+ areaValue:receptions  1   0.00758 25.074 -365.81\n",
            "+ bedrooms:areaValue    1   0.00246 25.079 -365.77\n",
            "- areaValue:isHouse     1   0.85510 25.937 -363.35\n",
            "- bedrooms:receptions   1   1.34713 26.429 -359.76\n",
            "- bathrooms:receptions  1   1.69704 26.779 -357.25\n",
            "- tax_numeric           1   3.11817 28.200 -347.37\n",
            "\n",
            "Step:  AIC=-368.73\n",
            "log(price) ~ bedrooms + tax_numeric + areaValue + bathrooms + \n",
            "    receptions + isHouse + epc_numeric + bathrooms:receptions + \n",
            "    bedrooms:receptions + areaValue:isHouse\n",
            "\n",
            "                       Df Sum of Sq    RSS     AIC\n",
            "+ bathrooms:bedrooms    1   0.26314 24.431 -368.78\n",
            "<none>                              24.694 -368.73\n",
            "+ bedrooms:isHouse      1   0.24432 24.450 -368.63\n",
            "+ receptions:isHouse    1   0.19639 24.497 -368.26\n",
            "+ isFreehold            1   0.14286 24.551 -367.84\n",
            "- epc_numeric           1   0.38798 25.082 -367.75\n",
            "+ bathrooms:areaValue   1   0.06544 24.628 -367.24\n",
            "+ bathrooms:isHouse     1   0.02490 24.669 -366.92\n",
            "+ areaValue:receptions  1   0.02326 24.671 -366.91\n",
            "+ bedrooms:areaValue    1   0.00825 24.686 -366.80\n",
            "- areaValue:isHouse     1   0.70471 25.399 -365.36\n",
            "- bedrooms:receptions   1   1.48150 26.175 -359.60\n",
            "- bathrooms:receptions  1   1.83624 26.530 -357.03\n",
            "- tax_numeric           1   2.88040 27.574 -349.66\n",
            "\n",
            "Step:  AIC=-368.78\n",
            "log(price) ~ bedrooms + tax_numeric + areaValue + bathrooms + \n",
            "    receptions + isHouse + epc_numeric + bathrooms:receptions + \n",
            "    bedrooms:receptions + areaValue:isHouse + bedrooms:bathrooms\n",
            "\n",
            "                                Df Sum of Sq    RSS     AIC\n",
            "+ bathrooms:bedrooms:receptions  1   1.65083 22.780 -380.14\n",
            "<none>                                       24.431 -368.78\n",
            "- bedrooms:bathrooms             1   0.26314 24.694 -368.73\n",
            "+ bedrooms:isHouse               1   0.21390 24.217 -368.46\n",
            "- epc_numeric                    1   0.30459 24.735 -368.41\n",
            "+ receptions:isHouse             1   0.19753 24.233 -368.33\n",
            "+ isFreehold                     1   0.13967 24.291 -367.87\n",
            "+ bathrooms:areaValue            1   0.05952 24.371 -367.24\n",
            "+ areaValue:receptions           1   0.02216 24.409 -366.95\n",
            "+ bathrooms:isHouse              1   0.01103 24.420 -366.86\n",
            "+ bedrooms:areaValue             1   0.00386 24.427 -366.81\n",
            "- areaValue:isHouse              1   0.72953 25.160 -365.16\n",
            "- bathrooms:receptions           1   1.09404 25.525 -362.41\n",
            "- bedrooms:receptions            1   1.74370 26.174 -357.61\n",
            "- tax_numeric                    1   2.79790 27.229 -350.07\n",
            "\n",
            "Step:  AIC=-380.14\n",
            "log(price) ~ bedrooms + tax_numeric + areaValue + bathrooms + \n",
            "    receptions + isHouse + epc_numeric + bathrooms:receptions + \n",
            "    bedrooms:receptions + areaValue:isHouse + bedrooms:bathrooms + \n",
            "    bedrooms:bathrooms:receptions\n",
            "\n",
            "                                Df Sum of Sq    RSS     AIC\n",
            "- epc_numeric                    1   0.11931 22.899 -381.14\n",
            "<none>                                       22.780 -380.14\n",
            "+ bathrooms:isHouse              1   0.06622 22.714 -378.70\n",
            "+ bedrooms:areaValue             1   0.04332 22.737 -378.50\n",
            "+ bathrooms:areaValue            1   0.03347 22.747 -378.42\n",
            "+ receptions:isHouse             1   0.01597 22.764 -378.27\n",
            "+ areaValue:receptions           1   0.01540 22.765 -378.27\n",
            "+ isFreehold                     1   0.00715 22.773 -378.20\n",
            "+ bedrooms:isHouse               1   0.00472 22.775 -378.18\n",
            "- areaValue:isHouse              1   1.07029 23.850 -373.37\n",
            "- bedrooms:bathrooms:receptions  1   1.65083 24.431 -368.78\n",
            "- tax_numeric                    1   2.99757 25.777 -358.53\n",
            "\n",
            "Step:  AIC=-381.14\n",
            "log(price) ~ bedrooms + tax_numeric + areaValue + bathrooms + \n",
            "    receptions + isHouse + bathrooms:receptions + bedrooms:receptions + \n",
            "    areaValue:isHouse + bedrooms:bathrooms + bedrooms:bathrooms:receptions\n",
            "\n",
            "                                Df Sum of Sq    RSS     AIC\n",
            "<none>                                       22.899 -381.14\n",
            "+ epc_numeric                    1   0.11931 22.780 -380.14\n",
            "+ bathrooms:isHouse              1   0.04445 22.855 -379.51\n",
            "+ bedrooms:areaValue             1   0.03570 22.864 -379.44\n",
            "+ receptions:isHouse             1   0.02312 22.876 -379.34\n",
            "+ bathrooms:areaValue            1   0.02083 22.878 -379.32\n",
            "+ isFreehold                     1   0.01451 22.885 -379.26\n",
            "+ bedrooms:isHouse               1   0.00806 22.891 -379.21\n",
            "+ areaValue:receptions           1   0.00756 22.892 -379.21\n",
            "- areaValue:isHouse              1   1.20493 24.104 -373.35\n",
            "- bedrooms:bathrooms:receptions  1   1.83612 24.735 -368.41\n",
            "- tax_numeric                    1   3.14321 26.043 -358.58\n"
          ]
        },
        {
          "output_type": "display_data",
          "data": {
            "text/plain": [
              "\n",
              "Call:\n",
              "lm(formula = log(price) ~ bedrooms + tax_numeric + areaValue + \n",
              "    bathrooms + receptions + isHouse + bathrooms:receptions + \n",
              "    bedrooms:receptions + areaValue:isHouse + bedrooms:bathrooms + \n",
              "    bedrooms:bathrooms:receptions, data = listings)\n",
              "\n",
              "Residuals:\n",
              "    Min      1Q  Median      3Q     Max \n",
              "-0.8189 -0.2763 -0.0054  0.2299  0.8947 \n",
              "\n",
              "Coefficients:\n",
              "                                Estimate Std. Error t value Pr(>|t|)    \n",
              "(Intercept)                    1.331e+01  3.570e-01  37.280  < 2e-16 ***\n",
              "bedrooms                      -7.714e-02  1.074e-01  -0.718 0.473675    \n",
              "tax_numeric                    1.481e-01  2.987e-02   4.957 1.65e-06 ***\n",
              "areaValue                      2.504e-06  7.873e-07   3.180 0.001735 ** \n",
              "bathrooms                     -5.760e-01  1.377e-01  -4.185 4.47e-05 ***\n",
              "receptions                    -1.825e-01  1.483e-01  -1.230 0.220170    \n",
              "isHouse                        2.308e-02  1.299e-01   0.178 0.859128    \n",
              "bathrooms:receptions           1.864e-01  4.002e-02   4.657 6.22e-06 ***\n",
              "bedrooms:receptions            1.693e-02  3.067e-02   0.552 0.581696    \n",
              "areaValue:isHouse             -2.415e-06  7.868e-07  -3.069 0.002482 ** \n",
              "bedrooms:bathrooms             1.099e-01  2.749e-02   3.998 9.35e-05 ***\n",
              "bedrooms:bathrooms:receptions -2.397e-02  6.328e-03  -3.788 0.000207 ***\n",
              "---\n",
              "Signif. codes:  0 ‘***’ 0.001 ‘**’ 0.01 ‘*’ 0.05 ‘.’ 0.1 ‘ ’ 1\n",
              "\n",
              "Residual standard error: 0.3577 on 179 degrees of freedom\n",
              "Multiple R-squared:  0.7322,\tAdjusted R-squared:  0.7158 \n",
              "F-statistic: 44.49 on 11 and 179 DF,  p-value: < 2.2e-16\n"
            ]
          },
          "metadata": {}
        }
      ]
    },
    {
      "cell_type": "markdown",
      "source": [
        "Finally we perform a Breusch-Pagan test to test for homoscedasticity. In this instance p > 0.05 so we can accept the null hypothesis of constant variance of residuals. This means our model is likely to be trustworthy."
      ],
      "metadata": {
        "id": "RdpzkdX8lH8M"
      }
    },
    {
      "cell_type": "code",
      "source": [
        "library(lmtest)\n",
        "model <- lm(log(price) ~ bedrooms + tax_numeric + areaValue +\n",
        "    bathrooms + receptions + isHouse + bathrooms:receptions +\n",
        "    bedrooms:receptions + areaValue:isHouse + bedrooms:bathrooms +\n",
        "    bedrooms:bathrooms:receptions, data = listings)\n",
        "plot(model$fitted.values, residuals(model),\n",
        "     xlab = \"Fitted values\",\n",
        "     ylab = \"Residuals\",\n",
        "     main = \"Residuals vs Fitted Values\")\n",
        "abline(h = 0, col = \"red\")\n",
        "\n",
        "bptest(model)\n"
      ],
      "metadata": {
        "colab": {
          "base_uri": "https://localhost:8080/",
          "height": 524
        },
        "id": "9uoFMUJhNcZK",
        "outputId": "8b1b41aa-dbcb-4425-c294-c647e96cfbde"
      },
      "execution_count": 39,
      "outputs": [
        {
          "output_type": "display_data",
          "data": {
            "text/plain": [
              "\n",
              "\tstudentized Breusch-Pagan test\n",
              "\n",
              "data:  model\n",
              "BP = 16.193, df = 11, p-value = 0.1341\n"
            ]
          },
          "metadata": {}
        },
        {
          "output_type": "display_data",
          "data": {
            "text/plain": [
              "Plot with title “Residuals vs Fitted Values”"
            ],
            "image/png": "[encoded data removed]"
          },
          "metadata": {
            "image/png": {
              "width": 420,
              "height": 420
            }
          }
        }
      ]
    },
    {
      "cell_type": "markdown",
      "source": [
        "## Final Stepwise Regression Model Summary (AIC = -381.14)\n",
        "\n",
        "### Model Formula\n",
        "\n",
        "```r\n",
        "log(price) ~ bedrooms + tax_numeric + areaValue +\n",
        "    bathrooms + receptions + isHouse + bathrooms:receptions +\n",
        "    bedrooms:receptions + areaValue:isHouse + bedrooms:bathrooms +\n",
        "    bedrooms:bathrooms:receptions\n",
        "```\n",
        "# Model Summary and Interpretation\n",
        "\n",
        "The selected model explains approximately **71.6% of the variation** in the logarithm of property prices (adjusted R² = 0.7158), indicating a strong fit.\n",
        "\n",
        "## Key takeaways\n",
        "\n",
        "- **Number of bedrooms (`bedrooms`)** does not have a significant main effect but plays a key role through interactions.\n",
        "- **Council tax band (`tax_numeric`)** is a highly significant positive predictor, reflecting the importance of location and property valuation tiers.\n",
        "- **Property size (`areaValue`)** is a significant positive predictor of log-price, with its effect modified by whether the property is a house (`isHouse`).\n",
        "- **Bathroom count** has a significant negative main effect but a positive interaction with **receptions**, showing that additional bathrooms increase price more when there are more reception rooms.\n",
        "- **Reception rooms (`receptions`)** have a non-significant main effect but appear in multiple interaction terms.\n",
        "- The **interaction between bathrooms and receptions** is strongly significant.\n",
        "- Other important interactions include:\n",
        "  - `areaValue:isHouse`: the effect of size differs between houses and other property types.\n",
        "  - `bedrooms:bathrooms`: bedrooms and bathrooms together influence price.\n",
        "  - `bedrooms:bathrooms:receptions`: a three-way interaction revealing a complex relationship among these features.\n",
        "\n",
        "## Model diagnostics\n",
        "\n",
        "- **Residual standard error** on log(price) is approximately **0.358**, indicating reasonable model fit.\n",
        "- **Multiple R-squared:** 0.7322, **Adjusted R-squared:** 0.7158 meaning strong explanatory power.\n",
        "- The model's **AIC of -381.14** was the lowest of all candidates suggesting the best fit to the underlying data.\n",
        "\n",
        "## Interpretation\n",
        "\n",
        "This model highlights that property price is influenced by a complex interplay of features rather than isolated effects. While bedrooms alone do not significantly predict price, their interaction with bathrooms and receptions is crucial, suggesting the value of bedrooms depends on the overall property layout. The significant interaction between property size and house status indicates that the price impact of size varies between houses and other property types. The strong effect of council tax band underscores the importance of location and local valuation criteria. The negative main effect of bathrooms combined with a positive interaction with receptions suggests additional bathrooms add value primarily in properties with more reception rooms.\n",
        "\n",
        "## Recommendations\n",
        "\n",
        "- Explore further **non-linear transformations** or **alternative regression methods** (e.g., generalized linear models or weighted least squares) to handle possible heteroscedasticity.\n",
        "- Consider adding **postcode-level variables** (`areaCode`) to capture spatial effects.\n",
        "- Investigate more **interaction terms** and possibly **higher-order polynomials** to capture complex relationships.\n",
        "- Perform **model validation** using out-of-sample data to ensure generalisability.\n",
        "- Use the model insights to inform property valuation, focusing on how the combination of bedrooms, bathrooms, receptions, and property type affects price rather than treating features independently.\n",
        "\n"
      ],
      "metadata": {
        "id": "Zi08igKUGKMh"
      }
    }
  ]
}